{
  "nbformat": 4,
  "nbformat_minor": 0,
  "metadata": {
    "colab": {
      "provenance": []
    },
    "kernelspec": {
      "name": "python3",
      "display_name": "Python 3"
    },
    "language_info": {
      "name": "python"
    }
  },
  "cells": [
    {
      "cell_type": "code",
      "execution_count": 5,
      "metadata": {
        "id": "46mjAlpBWbit"
      },
      "outputs": [],
      "source": [
        "#Primer punto\n",
        "#Algoritmo de euclides\n",
        "def mcd(a, b):\n",
        "  # Si b es cero, el mcd es a\n",
        "  if b == 0:\n",
        "    return a\n",
        "  # Si no, aplicar el algoritmo de Euclides recursivamente\n",
        "  else:\n",
        "    return mcd(b, a % b)\n",
        "#recorre todas las posibles combinaciones de a y b que cumplan que\n",
        "#a+b =544, variando la variable a. Además verifica que el mcd en\n",
        "#cada caso sea 11. si no es 11 no imprime nada, si es 11 nos dice que vale\n",
        "#ninguna salida nos dice que vale. por tanto no hay a+b=544 tal que  mcd(a,b) = 11\n",
        "\n",
        "for a in range(544):\n",
        "    b = 544 - a\n",
        "    if mcd(a, b) == 11:\n",
        "      print(a,'es 11 vale')\n",
        "#desbloquea este codigo si quieres ver los mcd's de los posibles de a y b.\n",
        "#ninguno dará 11\n",
        "#for a in range(545):\n",
        "\n",
        "#  b = 544 - a\n",
        "#  print(a,'y',b,'tiene un mcd de ',mcd(a,b))"
      ]
    },
    {
      "cell_type": "code",
      "source": [],
      "metadata": {
        "id": "DsfuZS97Wd9W"
      },
      "execution_count": null,
      "outputs": []
    }
  ]
}