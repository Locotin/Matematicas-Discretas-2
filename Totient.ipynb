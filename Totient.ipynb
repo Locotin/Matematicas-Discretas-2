{
  "metadata": {
    "language_info": {
      "codemirror_mode": {
        "name": "python",
        "version": 3
      },
      "file_extension": ".py",
      "mimetype": "text/x-python",
      "name": "python",
      "nbconvert_exporter": "python",
      "pygments_lexer": "ipython3",
      "version": "3.8"
    },
    "kernelspec": {
      "name": "python",
      "display_name": "Python (Pyodide)",
      "language": "python"
    }
  },
  "nbformat_minor": 4,
  "nbformat": 4,
  "cells": [
    {
      "cell_type": "code",
      "source": "p=5842399",
      "metadata": {
        "trusted": true
      },
      "execution_count": null,
      "outputs": []
    },
    {
      "cell_type": "code",
      "source": "import time\n# Definir una función que calcule el máximo común divisor de dos números\n#Esta funcion tambien vale como la tarea del 29/03\n\ndef mcd(a, b):\n  # Si b es cero, el mcd es a\n  if b == 0:\n    return a\n  # Si no, aplicar el algoritmo de Euclides recursivamente\n  else:\n    return mcd(b, a % b)\n\n# Definir una función que cuente los coprimos de un número n\ndef contar_coprimos(n):\n  # Inicializar un contador en cero\n  contador = 0\n  # Recorrer los números desde 1 hasta n-1\n  for i in range(1, n):\n    # Si el mcd de i y n es uno, incrementar el contador\n    if mcd(i, n) == 1:\n      contador += 1\n  # Devolver el contador como resultado\n  return contador\n\n# Probar la función con algunos ejemplos\n\nprint(contar_coprimos(p))\n\ninicio = time.perf_counter()\ncontar_coprimos(p)\nfin = time.perf_counter()\ntiempo = fin - inicio\nprint(f\"La función euler totient usual tomó {tiempo} segundos en ejecutarse\")\n",
      "metadata": {
        "trusted": true
      },
      "execution_count": null,
      "outputs": []
    },
    {
      "cell_type": "code",
      "source": "import math\nimport time\np=10\ndef cantidad_generadores(p):\n    if p == 1:\n        return 1\n    # Descomponer p en factores primos\n    factores = []\n    i = 2\n    while i * i <= p:\n        if p % i:\n            i += 1\n        else:\n            p //= i\n            factores.append(i)\n    if p > 1:\n        factores.append(p)\n    # Calcular el totient de cada factor\n    #Acá tambien usamos los teoremas de la función totient\n    totients = []\n    for factor in set(factores):\n        if factores.count(factor) == 1:\n            totients.append(factor - 1)\n        else:\n            totients.append(factor**(factores.count(factor) - 1) * (factor - 1))\n    # Calcular el producto de los totients\n    totient = 1\n    for t in totients:\n        totient *= t\n    return totient\n\nprint(cantidad_generadores(p))\n\ninicio = time.perf_counter()\ncantidad_generadores(p)\nfin = time.perf_counter()\ntiempo = fin - inicio\nprint(f\"La función euler totient inteligente tomó {tiempo} segundos en ejecutarse\")",
      "metadata": {
        "trusted": true
      },
      "execution_count": null,
      "outputs": []
    },
    {
      "cell_type": "code",
      "source": "",
      "metadata": {},
      "execution_count": null,
      "outputs": []
    }
  ]
}