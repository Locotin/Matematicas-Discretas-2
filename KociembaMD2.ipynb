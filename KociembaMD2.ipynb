{
  "nbformat": 4,
  "nbformat_minor": 0,
  "metadata": {
    "colab": {
      "provenance": []
    },
    "kernelspec": {
      "name": "python3",
      "display_name": "Python 3"
    },
    "language_info": {
      "name": "python"
    }
  },
  "cells": [
    {
      "cell_type": "markdown",
      "source": [
        "Introducción: El algoritmo Kociemba lleva el nombre de su creador, Herbert Kociemba, un matemático alemán que se dedicó a estudiar y perfeccionar los métodos de resolución del Cubo de Rubik. Este algoritmo se basa en el concepto de búsqueda óptima, que implica encontrar la solución más corta y eficiente para resolver el cubo en la menor cantidad de movimientos posible.\n",
        "\n",
        "La principal razón por la cual se utiliza el algoritmo Kociemba en la resolución del Cubo de Rubik es su capacidad para encontrar soluciones rápidas y óptimas. El algoritmo Kociemba se enfoca en reducir la cantidad de pasos necesarios para resolver el cubo en dos fases, lo que resulta en un proceso más \n",
        "\n",
        "La motivación principal para usar el algoritmo kociemba para la resolución de cubo de rubik es que, al menos para el método principiantes, se usa una considerable cantidad de pasos en los cuales se incluyen algoritmos de permutación iterativos los cuales corresponden a una mayor cantidad de tiempo en la resolución\n",
        "\n",
        "\n"
      ],
      "metadata": {
        "id": "didj-744WgpG"
      }
    },
    {
      "cell_type": "markdown",
      "source": [
        "Materiales y métodos:\n",
        "El modelo Kociemba se devida en 2 Fases. Antes de eso debemos definir algunas cosas que nos ayudarán a explicar el funcionamiento del algoritmo:\n",
        "\n",
        "Definiciones:\n",
        "\n",
        "p es el conjunto de todos los estados del cubo\n",
        "\n",
        "H es el conjunto de estados del cubo al cual sólo se llega con transformaciones del tipo (U, U2 ,U' ,D ,D2 ,D' ,R2 ,L2 ,F2 ,B2 ). Se define H porque cumple con que  ∀ h ∈ H cumple que se necesita máximo 18 movimientos llegar al estado resuelto. Esto porque H conserva la orientación de las esquinas y aristas y que las aristas de la mitad (del segundo nivel) no se moverán a otros niveles.\n",
        "\n",
        "A es la secuencia de transformaciones que lleva cualquier estado de p al subconjunto H tal que f(p)=pA. Esta secuencia se encuentra exhaustivamente\n",
        "\n",
        "B es la secuencia de transformaciones que lleva cualquier estado de H al estado resuelto tal que f(pA)=pAB. Esta secuencia se encuentra exhaustivamente y consta de máximo 18 movimientos. AB entonces es la secuencia que resuelve el cubo de rubik"
      ],
      "metadata": {
        "id": "msIdTApNgBvO"
      }
    },
    {
      "cell_type": "markdown",
      "source": [
        "**Resultados: A conitnuación se muestra el algoritmo planteado**"
      ],
      "metadata": {
        "id": "CD82BTryrcWN"
      }
    },
    {
      "cell_type": "code",
      "execution_count": null,
      "metadata": {
        "colab": {
          "base_uri": "https://localhost:8080/"
        },
        "id": "H4Txiao0Jnaq",
        "outputId": "f559e675-5d0f-4e02-90c8-5c1dec85ad65"
      },
      "outputs": [
        {
          "output_type": "stream",
          "name": "stdout",
          "text": [
            "Looking in indexes: https://pypi.org/simple, https://us-python.pkg.dev/colab-wheels/public/simple/\n",
            "Requirement already satisfied: numpy in /usr/local/lib/python3.10/dist-packages (1.22.4)\n"
          ]
        }
      ],
      "source": [
        "pip install numpy"
      ]
    },
    {
      "cell_type": "code",
      "source": [
        "pip install kociemba"
      ],
      "metadata": {
        "colab": {
          "base_uri": "https://localhost:8080/"
        },
        "id": "suVEu_K4Jtfp",
        "outputId": "458a9ddb-00fa-4482-cb40-7be01c59917f"
      },
      "execution_count": null,
      "outputs": [
        {
          "output_type": "stream",
          "name": "stdout",
          "text": [
            "Looking in indexes: https://pypi.org/simple, https://us-python.pkg.dev/colab-wheels/public/simple/\n",
            "Requirement already satisfied: kociemba in /usr/local/lib/python3.10/dist-packages (1.2.1)\n",
            "Requirement already satisfied: cffi>=1.0.0 in /usr/local/lib/python3.10/dist-packages (from kociemba) (1.15.1)\n",
            "Requirement already satisfied: future in /usr/local/lib/python3.10/dist-packages (from kociemba) (0.18.3)\n",
            "Requirement already satisfied: pycparser in /usr/local/lib/python3.10/dist-packages (from cffi>=1.0.0->kociemba) (2.21)\n"
          ]
        }
      ]
    },
    {
      "cell_type": "code",
      "source": [
        "\n",
        "import numpy as np\n",
        "import kociemba as Cube\n",
        "import time\n",
        "\n",
        "\n",
        "state = {\n",
        "    'up': ['white', 'orange', 'white',  \n",
        "           'white', 'white', 'blue',       \n",
        "           'blue', 'blue', 'orange', ],  \n",
        "     #             ⬜🟧⬜\n",
        "     #             ⬜⬜🟦\n",
        "     #             🟦🟦🟧\n",
        "  \n",
        "  'right': ['green', 'red', 'red', \n",
        "            'white', 'red', 'green', \n",
        "            'orange', 'yellow', 'yellow', ],\n",
        "      #            🟩🟥🟥\n",
        "      #            ⬜🟥🟩\n",
        "      #            🟧🟨🟨\n",
        "    \n",
        "  'front': ['orange', 'white', 'yellow',\n",
        "            'red', 'green', 'red',\n",
        "            'orange', 'orange', 'white', ],\n",
        "\n",
        "      #             🟧⬜🟨\n",
        "      #             🟥🟩🟥     \n",
        "      #             🟧🟧⬜   \n",
        "  \n",
        "    'down': ['white', 'yellow', 'blue', \n",
        "             'blue', 'yellow', 'blue',\n",
        "             'yellow', 'green', 'red', ],\n",
        "  \n",
        "      #              ⬜🟨🟦\n",
        "      #              🟦🟨🟦\n",
        "      #              🟨🟩🟥\n",
        "  \n",
        "         \n",
        "    'left': ['red', 'green', 'yellow',\n",
        "             'yellow', 'orange', 'green',\n",
        "             'blue', 'orange', 'green', ],\n",
        "\n",
        "      #              🟥🟩🟨\n",
        "      #              🟨🟧🟩\n",
        "      #              🟦🟧🟩\n",
        "\n",
        "    'back': ['blue', 'white', 'green',\n",
        "             'yellow', 'blue', 'red',\n",
        "             'green', 'orange', 'red', ],}\n",
        "  \n",
        "      #              🟦⬜🟩\n",
        "      #              🟨🟦🟥\n",
        "      #              🟩🟧🟥\n",
        "  \n",
        "\n",
        "sign_conv = {\n",
        "    'green': 'F',#Verde al frente\n",
        "    'white': 'U',#Blanco arriba\n",
        "    'blue': 'B',#Azul atrás\n",
        "    'red': 'R', #Rojo a la derecha\n",
        "    'orange': 'L',#Naranja a la izquierda\n",
        "    'yellow': 'D'#Amarillo abajo\n",
        "}\n",
        "\n",
        "\n",
        "\n",
        "\n",
        "\n"
      ],
      "metadata": {
        "id": "jkKN-WWOJxrW"
      },
      "execution_count": null,
      "outputs": []
    },
    {
      "cell_type": "code",
      "source": [
        "raw=''\n",
        "for i in state:\n",
        "    for j in state[i]:\n",
        "      \n",
        "      raw+=sign_conv[j]\n",
        "print(\"answer:\",Cube.solve(raw))\n",
        "   \n"
      ],
      "metadata": {
        "colab": {
          "base_uri": "https://localhost:8080/"
        },
        "id": "PkZetZpPykj8",
        "outputId": "4d48d792-85d5-4323-8800-ef73ddc97c94"
      },
      "execution_count": null,
      "outputs": [
        {
          "output_type": "stream",
          "name": "stdout",
          "text": [
            "answer: B L2 D' F' D2 B U2 F2 D R' L B2 U' F2 B2 D' L2 U' R2 F2 U2\n"
          ]
        }
      ]
    },
    {
      "cell_type": "markdown",
      "source": [
        "Conclusiones:\n",
        "\n",
        "> El algoritmo permite conseguir soluciones óptimas con menos de 25 transformaciones.\n",
        "\n",
        "> Queda la duda si es posible rebajar el número de transformaciones necesarias para resolver el cubo. Para esto se tendría que mejorar o ver qué otros algoritmos podrían mejorarlo.\n",
        "\n",
        "\n",
        "> Podemos automatizar el proceso de recolección de colores del cubo con un programa que detecte los colores mediante una cámara emergente. Esto optimizaría bastante la resolución\n",
        "\n",
        "\n",
        "> La teoria de grupos fue muy importante para llegar a la creación de este algoritmo ya que gracias a estos conceptos se segmenta el problema en dos fases que nos permiten reducir el problema a una busca exhaustiva menos costosa computacionalmente\n",
        "\n",
        "\n",
        "\n",
        "\n",
        "\n"
      ],
      "metadata": {
        "id": "yxM2MYWUsMmF"
      }
    },
    {
      "cell_type": "code",
      "source": [],
      "metadata": {
        "id": "kGIDtsfjsRG_"
      },
      "execution_count": null,
      "outputs": []
    }
  ]
}