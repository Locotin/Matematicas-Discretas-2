{
  "metadata": {
    "language_info": {
      "codemirror_mode": {
        "name": "python",
        "version": 3
      },
      "file_extension": ".py",
      "mimetype": "text/x-python",
      "name": "python",
      "nbconvert_exporter": "python",
      "pygments_lexer": "ipython3",
      "version": "3.8"
    },
    "kernelspec": {
      "name": "python",
      "display_name": "Python (Pyodide)",
      "language": "python"
    }
  },
  "nbformat_minor": 4,
  "nbformat": 4,
  "cells": [
    {
      "cell_type": "code",
      "source": "n=5",
      "metadata": {
        "trusted": true
      },
      "execution_count": 7,
      "outputs": []
    },
    {
      "cell_type": "code",
      "source": "\n# Definir una función que calcule la cantidad mínima de enteros al cuadrado para representar un número n\ndef suma_cuadrados(n):\n  # Si n es cero o uno, devolver n como resultado\n  if n == 0 or n == 1:\n    return n\n  # Si no, inicializar una lista vacía para almacenar los posibles resultados\n  else:\n    resultados = []\n    #Recorremos hasta la raiz cuadrada de n ya que en dado caso que los numeros\n    #anteriores a la raiz de n no cumplan con que al sumarse den n, solo la raiz de n la cumple \n    for i in range(1, int(n**0.5) + 1):\n      # Calcular el resto de dividir n entre i al cuadrado\n      resto = n - i**2\n      # Llamar recursivamente a la función con el resto y sumar uno al resultado\n    #tenemos un +1 en este resultado ya que cuando usamos la recursividad acá usamos tambien un ciclo for\n    #este ciclo for implica a que se está usando un nuevo cuadrado, por tanto se tiene que sumar iterativamente hasta que\n    # la función recursiva reciba 0 o 1 como argumento\n    # Además debemos utilizar el resto como argumento de la función recursiva,\n    #porque representa la parte de n que no ha sido cubierta por los cuadrados anteriores\n      resultado = suma_cuadrados(resto) + 1\n      # Añadir el resultado a la lista de posibles resultados\n      resultados.append(resultado)\n    # Devolver el mínimo de la lista de posibles resultados como resultado final\n    return min(resultados)\nprint(suma_cuadrados(n))",
      "metadata": {
        "trusted": true
      },
      "execution_count": 8,
      "outputs": [
        {
          "name": "stdout",
          "text": "2\n",
          "output_type": "stream"
        }
      ]
    },
    {
      "cell_type": "code",
      "source": "",
      "metadata": {},
      "execution_count": null,
      "outputs": []
    }
  ]
}